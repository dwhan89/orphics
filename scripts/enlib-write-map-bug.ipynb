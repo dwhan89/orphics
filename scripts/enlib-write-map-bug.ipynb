{
 "cells": [
  {
   "cell_type": "markdown",
   "metadata": {},
   "source": [
    "# Enlib write_map bug"
   ]
  },
  {
   "cell_type": "code",
   "execution_count": 1,
   "metadata": {},
   "outputs": [],
   "source": [
    "%load_ext autoreload\n",
    "%autoreload 2"
   ]
  },
  {
   "cell_type": "code",
   "execution_count": 2,
   "metadata": {},
   "outputs": [],
   "source": [
    "from enlib import enmap,wcs as mwcs\n",
    "import numpy as np\n",
    "import sys,os\n"
   ]
  },
  {
   "cell_type": "markdown",
   "metadata": {},
   "source": [
    "We make a full-sky arcminute resolution geometry. I've only been able to reproduce this bug for res=1.0."
   ]
  },
  {
   "cell_type": "code",
   "execution_count": 3,
   "metadata": {},
   "outputs": [],
   "source": [
    "res = 1.0\n",
    "shape, wcs = enmap.fullsky_geometry(res=res*np.pi/180./60., proj=\"car\")\n",
    "shape = (3,)+shape"
   ]
  },
  {
   "cell_type": "markdown",
   "metadata": {},
   "source": [
    "We do a pix2sky that is needed by map2alm and make sure it gives a sensible result."
   ]
  },
  {
   "cell_type": "code",
   "execution_count": 4,
   "metadata": {},
   "outputs": [
    {
     "name": "stdout",
     "output_type": "stream",
     "text": [
      "(array([-1.57079633, -1.57050544, -1.57021455, ...,  1.57021455,\n",
      "        1.57050544,  1.57079633]), array([-3.14159265, -3.14159265, -3.14159265, ..., -3.14159265,\n",
      "       -3.14159265, -3.14159265]), array([-1.57079633, -1.57079633, -1.57079633, ..., -1.57079633,\n",
      "       -1.57079633, -1.57079633]), array([-3.14159265, -3.14188354, -3.14217443, ..., -9.4239053 ,\n",
      "       -9.42419618, -9.42448707]))\n"
     ]
    }
   ],
   "source": [
    "ny, nx = shape[-2:]\n",
    "vy,vx = enmap.pix2sky(shape, wcs, [np.arange(ny),np.zeros(ny)])\n",
    "hy,hx = enmap.pix2sky(shape, wcs, [np.zeros(nx),np.arange(nx)])\n",
    "print(vy,vx,hy,hx)\n",
    "\n"
   ]
  },
  {
   "cell_type": "markdown",
   "metadata": {},
   "source": [
    "It makes sense. We now save a map that has this geometry and load it back."
   ]
  },
  {
   "cell_type": "code",
   "execution_count": 5,
   "metadata": {},
   "outputs": [
    {
     "name": "stderr",
     "output_type": "stream",
     "text": [
      "WARNING: AstropyDeprecationWarning: Config parameter 'enabled_record_valued_keyword_cards' in section [io.fits] of the file '/astro/u/msyriac/.astropy/config/astropy.cfg' is deprecated. Use 'enable_record_valued_keyword_cards' in section [io.fits] instead. [astropy.config.configuration]\n"
     ]
    },
    {
     "name": "stdout",
     "output_type": "stream",
     "text": [
      "((3, 10801, 21600), car:{cdelt:[-0.01667,0.01667],crval:[0,0],crpix:[1.08e+04,5401]})\n",
      "((3, 10801, 21600), car:{cdelt:[-0.01667,0.01667],crval:[0,0],crpix:[1.08e+04,5401]})\n",
      "True\n"
     ]
    }
   ],
   "source": [
    "root = os.environ['WORK']+\"/\"\n",
    "enmap.write_map(root+\"temp.fits\",enmap.zeros(shape,wcs,dtype=np.uint8))\n",
    "lshape,lwcs = enmap.read_map_geometry(root+\"temp.fits\")\n",
    "\n",
    "print(shape,wcs)\n",
    "print(lshape,lwcs)\n",
    "print(mwcs.equal(wcs,lwcs))\n"
   ]
  },
  {
   "cell_type": "markdown",
   "metadata": {},
   "source": [
    "The shapes and wcs of the geometry we originally made and of the saved map seem to agree. So we proceed to do the same pix2sky operation on the loaded geometry."
   ]
  },
  {
   "cell_type": "code",
   "execution_count": 6,
   "metadata": {},
   "outputs": [
    {
     "name": "stdout",
     "output_type": "stream",
     "text": [
      "(array([ nan,  nan,  nan, ...,  nan,  nan,  nan]), array([ nan,  nan,  nan, ...,  nan,  nan,  nan]), array([ nan,  nan,  nan, ...,  nan,  nan,  nan]), array([ nan,  nan,  nan, ...,  nan,  nan,  nan]))\n"
     ]
    }
   ],
   "source": [
    "\n",
    "ny, nx = lshape[-2:]\n",
    "vy,vx = enmap.pix2sky(lshape, lwcs, [np.arange(ny),np.zeros(ny)])\n",
    "hy,hx = enmap.pix2sky(lshape, lwcs, [np.zeros(nx),np.arange(nx)])\n",
    "print(vy,vx,hy,hx)\n"
   ]
  },
  {
   "cell_type": "markdown",
   "metadata": {},
   "source": [
    "The results are all nans."
   ]
  }
 ],
 "metadata": {
  "kernelspec": {
   "display_name": "Python 2",
   "language": "python",
   "name": "python2"
  },
  "language_info": {
   "codemirror_mode": {
    "name": "ipython",
    "version": 2
   },
   "file_extension": ".py",
   "mimetype": "text/x-python",
   "name": "python",
   "nbconvert_exporter": "python",
   "pygments_lexer": "ipython2",
   "version": "2.7.5"
  }
 },
 "nbformat": 4,
 "nbformat_minor": 2
}
