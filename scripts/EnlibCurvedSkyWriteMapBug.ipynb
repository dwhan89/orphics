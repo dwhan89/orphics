{
 "cells": [
  {
   "cell_type": "code",
   "execution_count": 11,
   "metadata": {
    "autoscroll": false,
    "collapsed": false,
    "ein.hycell": false,
    "ein.tags": "worksheet-0",
    "slideshow": {
     "slide_type": "-"
    }
   },
   "outputs": [
    {
     "name": "stdout",
     "output_type": "stream",
     "text": [
      "The autoreload extension is already loaded. To reload it, use:\n",
      "  %reload_ext autoreload\n"
     ]
    }
   ],
   "source": [
    "%load_ext autoreload\n",
    "%autoreload 2\n",
    "from __future__ import print_function\n",
    "from enlib import enmap\n",
    "import numpy as np\n",
    "import os,sys"
   ]
  },
  {
   "cell_type": "code",
   "execution_count": 12,
   "metadata": {
    "autoscroll": false,
    "collapsed": false,
    "ein.hycell": false,
    "ein.tags": "worksheet-0",
    "slideshow": {
     "slide_type": "-"
    }
   },
   "outputs": [],
   "source": [
    "res = 2.0\n",
    "ishape,iwcs = enmap.geometry(pos=np.deg2rad([[-70,110],[10,-65]]),res=res*np.pi/180./60.,proj='car')\n",
    "iarea = enmap.area(ishape,iwcs)"
   ]
  },
  {
   "cell_type": "code",
   "execution_count": 13,
   "metadata": {
    "autoscroll": false,
    "collapsed": false,
    "ein.hycell": false,
    "ein.tags": "worksheet-0",
    "slideshow": {
     "slide_type": "-"
    }
   },
   "outputs": [
    {
     "name": "stdout",
     "output_type": "stream",
     "text": [
      "1.7801316205279277e-12\n"
     ]
    }
   ],
   "source": [
    "gmap = enmap.enmap(np.random.random(size=ishape),iwcs)\n",
    "enmap.write_map(\"temp.fits\",gmap)\n",
    "imap = enmap.read_map(\"temp.fits\")\n",
    "assert np.all(np.isclose(gmap,imap))\n",
    "oshape,owcs = imap.shape,imap.wcs\n",
    "oarea = enmap.area(oshape,owcs)\n",
    "print((iarea-oarea)/iarea*100.)"
   ]
  },
  {
   "cell_type": "code",
   "execution_count": 14,
   "metadata": {
    "autoscroll": false,
    "collapsed": false,
    "ein.hycell": false,
    "ein.tags": "worksheet-0",
    "slideshow": {
     "slide_type": "-"
    }
   },
   "outputs": [],
   "source": [
    "from pixell import wcsutils\n",
    "assert wcsutils.equal(iwcs,owcs)"
   ]
  },
  {
   "cell_type": "code",
   "execution_count": 15,
   "metadata": {
    "autoscroll": false,
    "collapsed": false,
    "ein.hycell": false,
    "ein.tags": "worksheet-0",
    "slideshow": {
     "slide_type": "-"
    }
   },
   "outputs": [],
   "source": [
    "from pixell import curvedsky\n",
    "alms = curvedsky.map2alm(gmap,lmax=3072)"
   ]
  },
  {
   "cell_type": "code",
   "execution_count": 16,
   "metadata": {
    "autoscroll": false,
    "collapsed": false,
    "ein.hycell": false,
    "ein.tags": "worksheet-0",
    "slideshow": {
     "slide_type": "-"
    }
   },
   "outputs": [
    {
     "ename": "NotImplementedError",
     "evalue": "map2alm for noncylindrical layouts not implemented",
     "output_type": "error",
     "traceback": [
      "\u001b[0;31m---------------------------------------------------------------------------\u001b[0m",
      "\u001b[0;31mShapeError\u001b[0m                                Traceback (most recent call last)",
      "\u001b[0;32m~/repos/pixell/pixell/curvedsky.py\u001b[0m in \u001b[0;36mmap2alm\u001b[0;34m(map, alm, ainfo, lmax, spin, direct, copy, oversample, method, rtol, atol)\u001b[0m\n\u001b[1;32m    128\u001b[0m \t\t\talm = map2alm_cyl(map, alm, ainfo=ainfo, lmax=lmax, spin=spin, direct=direct,\n\u001b[0;32m--> 129\u001b[0;31m \t\t\t\t\tcopy=copy, rtol=rtol, atol=atol)\n\u001b[0m\u001b[1;32m    130\u001b[0m                 \u001b[0;32mexcept\u001b[0m \u001b[0mShapeError\u001b[0m \u001b[0;32mas\u001b[0m \u001b[0me\u001b[0m\u001b[0;34m:\u001b[0m\u001b[0;34m\u001b[0m\u001b[0m\n",
      "\u001b[0;32m~/repos/pixell/pixell/curvedsky.py\u001b[0m in \u001b[0;36mmap2alm_cyl\u001b[0;34m(map, alm, ainfo, lmax, spin, direct, copy, rtol, atol)\u001b[0m\n\u001b[1;32m    248\u001b[0m         \u001b[0;31m# See if our pixelization matches one with known weights.\u001b[0m\u001b[0;34m\u001b[0m\u001b[0;34m\u001b[0m\u001b[0m\n\u001b[0;32m--> 249\u001b[0;31m         \u001b[0mminfo\u001b[0m \u001b[0;34m=\u001b[0m \u001b[0mmatch_predefined_minfo\u001b[0m\u001b[0;34m(\u001b[0m\u001b[0mtmap\u001b[0m\u001b[0;34m,\u001b[0m \u001b[0mrtol\u001b[0m\u001b[0;34m=\u001b[0m\u001b[0mrtol\u001b[0m\u001b[0;34m,\u001b[0m \u001b[0matol\u001b[0m\u001b[0;34m=\u001b[0m\u001b[0matol\u001b[0m\u001b[0;34m)\u001b[0m\u001b[0;34m\u001b[0m\u001b[0m\n\u001b[0m\u001b[1;32m    250\u001b[0m         \u001b[0;32mreturn\u001b[0m \u001b[0mmap2alm_raw\u001b[0m\u001b[0;34m(\u001b[0m\u001b[0mtmap\u001b[0m\u001b[0;34m,\u001b[0m \u001b[0malm\u001b[0m\u001b[0;34m,\u001b[0m \u001b[0mminfo\u001b[0m\u001b[0;34m,\u001b[0m \u001b[0mainfo\u001b[0m\u001b[0;34m,\u001b[0m \u001b[0mspin\u001b[0m\u001b[0;34m=\u001b[0m\u001b[0mspin\u001b[0m\u001b[0;34m)\u001b[0m\u001b[0;34m\u001b[0m\u001b[0m\n",
      "\u001b[0;32m~/repos/pixell/pixell/curvedsky.py\u001b[0m in \u001b[0;36mmatch_predefined_minfo\u001b[0;34m(m, rtol, atol)\u001b[0m\n\u001b[1;32m    463\u001b[0m         \u001b[0mi2\u001b[0m \u001b[0;34m=\u001b[0m \u001b[0mi1\u001b[0m\u001b[0;34m+\u001b[0m\u001b[0mntheta\u001b[0m\u001b[0;34m\u001b[0m\u001b[0m\n\u001b[0;32m--> 464\u001b[0;31m         \u001b[0;32mif\u001b[0m \u001b[0;32mnot\u001b[0m \u001b[0maoff\u001b[0m \u001b[0;34m<\u001b[0m \u001b[0matol\u001b[0m\u001b[0;34m:\u001b[0m \u001b[0;32mraise\u001b[0m \u001b[0mShapeError\u001b[0m\u001b[0;34m(\u001b[0m\u001b[0;34m\"Could not find a map_info with predefined weights matching input map (abs offset %e >= %e)\"\u001b[0m \u001b[0;34m%\u001b[0m \u001b[0;34m(\u001b[0m\u001b[0maoff\u001b[0m\u001b[0;34m,\u001b[0m \u001b[0matol\u001b[0m\u001b[0;34m)\u001b[0m\u001b[0;34m)\u001b[0m\u001b[0;34m\u001b[0m\u001b[0m\n\u001b[0m\u001b[1;32m    465\u001b[0m         \u001b[0;32mif\u001b[0m \u001b[0;32mnot\u001b[0m \u001b[0mroff\u001b[0m \u001b[0;34m<\u001b[0m \u001b[0mrtol\u001b[0m\u001b[0;34m:\u001b[0m \u001b[0;32mraise\u001b[0m \u001b[0mShapeError\u001b[0m\u001b[0;34m(\u001b[0m\u001b[0;34m\"Could not find a map_info with predefined weights matching input map (%rel offset e >= %e)\"\u001b[0m \u001b[0;34m%\u001b[0m \u001b[0;34m(\u001b[0m\u001b[0maoff\u001b[0m\u001b[0;34m,\u001b[0m \u001b[0matol\u001b[0m\u001b[0;34m)\u001b[0m\u001b[0;34m)\u001b[0m\u001b[0;34m\u001b[0m\u001b[0m\n",
      "\u001b[0;31mShapeError\u001b[0m: Could not find a map_info with predefined weights matching input map (abs offset 2.908882e-04 >= 2.908882e-04)",
      "\nDuring handling of the above exception, another exception occurred:\n",
      "\u001b[0;31mNotImplementedError\u001b[0m                       Traceback (most recent call last)",
      "\u001b[0;32m<ipython-input-16-9e527da66726>\u001b[0m in \u001b[0;36m<module>\u001b[0;34m()\u001b[0m\n\u001b[0;32m----> 1\u001b[0;31m \u001b[0malms\u001b[0m \u001b[0;34m=\u001b[0m \u001b[0mcurvedsky\u001b[0m\u001b[0;34m.\u001b[0m\u001b[0mmap2alm\u001b[0m\u001b[0;34m(\u001b[0m\u001b[0mimap\u001b[0m\u001b[0;34m,\u001b[0m\u001b[0mlmax\u001b[0m\u001b[0;34m=\u001b[0m\u001b[0;36m3072\u001b[0m\u001b[0;34m)\u001b[0m\u001b[0;34m\u001b[0m\u001b[0m\n\u001b[0m",
      "\u001b[0;32m~/repos/pixell/pixell/curvedsky.py\u001b[0m in \u001b[0;36mmap2alm\u001b[0;34m(map, alm, ainfo, lmax, spin, direct, copy, oversample, method, rtol, atol)\u001b[0m\n\u001b[1;32m    129\u001b[0m \t\t\t\t\tcopy=copy, rtol=rtol, atol=atol)\n\u001b[1;32m    130\u001b[0m                 \u001b[0;32mexcept\u001b[0m \u001b[0mShapeError\u001b[0m \u001b[0;32mas\u001b[0m \u001b[0me\u001b[0m\u001b[0;34m:\u001b[0m\u001b[0;34m\u001b[0m\u001b[0m\n\u001b[0;32m--> 131\u001b[0;31m                         \u001b[0;32mraise\u001b[0m \u001b[0mNotImplementedError\u001b[0m\u001b[0;34m(\u001b[0m\u001b[0;34m\"map2alm for noncylindrical layouts not implemented\"\u001b[0m\u001b[0;34m)\u001b[0m\u001b[0;34m\u001b[0m\u001b[0m\n\u001b[0m\u001b[1;32m    132\u001b[0m         \u001b[0;32melse\u001b[0m\u001b[0;34m:\u001b[0m\u001b[0;34m\u001b[0m\u001b[0m\n\u001b[1;32m    133\u001b[0m                 \u001b[0;32mraise\u001b[0m \u001b[0mValueError\u001b[0m\u001b[0;34m(\u001b[0m\u001b[0;34m\"Unknown alm2map method %s\"\u001b[0m \u001b[0;34m%\u001b[0m \u001b[0mmethod\u001b[0m\u001b[0;34m)\u001b[0m\u001b[0;34m\u001b[0m\u001b[0m\n",
      "\u001b[0;31mNotImplementedError\u001b[0m: map2alm for noncylindrical layouts not implemented"
     ]
    }
   ],
   "source": [
    "alms = curvedsky.map2alm(imap,lmax=3072)"
   ]
  },
  {
   "cell_type": "code",
   "execution_count": 17,
   "metadata": {
    "autoscroll": false,
    "collapsed": false,
    "ein.hycell": false,
    "ein.tags": "worksheet-0",
    "slideshow": {
     "slide_type": "-"
    }
   },
   "outputs": [
    {
     "name": "stdout",
     "output_type": "stream",
     "text": [
      "(2400, 5250) car:{cdelt:[-0.03333,0.03333],crval:[22.5,0],crpix:[2626,2100]}\n",
      "(2400, 5250) car:{cdelt:[-0.03333,0.03333],crval:[22.5,0],crpix:[2626,2100]}\n"
     ]
    }
   ],
   "source": [
    "print(gmap.shape,gmap.wcs)\n",
    "print(imap.shape,imap.wcs)"
   ]
  },
  {
   "cell_type": "code",
   "execution_count": 17,
   "metadata": {
    "autoscroll": false,
    "collapsed": false,
    "ein.hycell": false,
    "ein.tags": "worksheet-0",
    "slideshow": {
     "slide_type": "-"
    }
   },
   "outputs": [],
   "source": []
  },
  {
   "cell_type": "code",
   "execution_count": null,
   "metadata": {
    "autoscroll": false,
    "collapsed": false,
    "ein.hycell": false,
    "ein.tags": "worksheet-0",
    "slideshow": {
     "slide_type": "-"
    }
   },
   "outputs": [],
   "source": []
  }
 ],
 "metadata": {
  "kernelspec": {
   "display_name": "Python 3",
   "name": "python3"
  },
  "name": "EnlibCurvedSkyWriteMapBug.ipynb"
 },
 "nbformat": 4,
 "nbformat_minor": 2
}
