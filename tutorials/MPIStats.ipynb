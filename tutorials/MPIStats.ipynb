{
 "cells": [
  {
   "cell_type": "markdown",
   "metadata": {},
   "source": [
    "# Statistics over MPI with orphics"
   ]
  },
  {
   "cell_type": "code",
   "execution_count": 3,
   "metadata": {},
   "outputs": [
    {
     "name": "stdout",
     "output_type": "stream",
     "text": [
      "The autoreload extension is already loaded. To reload it, use:\n",
      "  %reload_ext autoreload\n"
     ]
    }
   ],
   "source": [
    "%load_ext autoreload\n",
    "%autoreload 2\n",
    "from __future__ import print_function\n",
    "from orphics import stats,mpi\n",
    "import numpy as np"
   ]
  },
  {
   "cell_type": "code",
   "execution_count": 8,
   "metadata": {},
   "outputs": [
    {
     "name": "stdout",
     "output_type": "stream",
     "text": [
      "This is rank  0\n",
      "Numcores is  1\n"
     ]
    }
   ],
   "source": [
    "# Let's assume we know how many tasks we have\n",
    "Nsims = 100\n",
    "\n",
    "# We need the usual info about MPI. Instead of getting it through mpi4py, we get it through\n",
    "# orphics.mpi which wraps around it with some features that allow it to work even if mpi4py is\n",
    "# not installed (in which case numcores=1), and also reads an environment variable DISABLE_MPI\n",
    "# if we want it to not use MPI (again numcores=1).\n",
    "\n",
    "comm = mpi.MPI.COMM_WORLD\n",
    "rank = comm.Get_rank()\n",
    "numcores = comm.Get_size()\n",
    "\n",
    "print(\"This is rank \", rank)\n",
    "print(\"Numcores is \",numcores)\n"
   ]
  },
  {
   "cell_type": "code",
   "execution_count": 10,
   "metadata": {},
   "outputs": [
    {
     "name": "stdout",
     "output_type": "stream",
     "text": [
      "[100]\n",
      "[[0, 1, 2, 3, 4, 5, 6, 7, 8, 9, 10, 11, 12, 13, 14, 15, 16, 17, 18, 19, 20, 21, 22, 23, 24, 25, 26, 27, 28, 29, 30, 31, 32, 33, 34, 35, 36, 37, 38, 39, 40, 41, 42, 43, 44, 45, 46, 47, 48, 49, 50, 51, 52, 53, 54, 55, 56, 57, 58, 59, 60, 61, 62, 63, 64, 65, 66, 67, 68, 69, 70, 71, 72, 73, 74, 75, 76, 77, 78, 79, 80, 81, 82, 83, 84, 85, 86, 87, 88, 89, 90, 91, 92, 93, 94, 95, 96, 97, 98, 99]]\n"
     ]
    }
   ],
   "source": [
    "# Now we use a helper function to distribute our Nsims over numcores\n",
    "# It tries to spread it out as equally as possible while giving rank 0\n",
    "# the least. It returns an array containing how many jobs each rank\n",
    "# has been assigned, and a list containing the list of task indices for\n",
    "# each core\n",
    "num_each,each_tasks = mpi.mpi_distribute(Nsims,numcores)\n",
    "\n",
    "print(num_each)\n",
    "print(each_tasks)"
   ]
  },
  {
   "cell_type": "code",
   "execution_count": 12,
   "metadata": {},
   "outputs": [
    {
     "data": {
      "text/plain": [
       "array([[ 0.88057141,  2.31216795,  1.79928487, ...,  2.18824576,\n",
       "         1.26070349, -0.42324491],\n",
       "       [ 0.31208576, -1.65931363,  1.01932397, ...,  1.30520093,\n",
       "         2.2244475 ,  1.21878857],\n",
       "       [ 1.16391446,  2.05435029,  2.02505094, ...,  1.13946455,\n",
       "         0.63265794, -0.71463806],\n",
       "       ..., \n",
       "       [ 1.14372884,  2.50042952,  0.31493093, ...,  0.46525538,\n",
       "         1.38744181,  2.63954594],\n",
       "       [-0.38798437,  1.81656431, -0.18786271, ...,  1.00587875,\n",
       "         0.84133587, -1.3101586 ],\n",
       "       [ 1.7777591 , -1.25150598,  1.26124557, ...,  0.70245828,\n",
       "         0.96138147,  1.24848992]])"
      ]
     },
     "execution_count": 12,
     "metadata": {},
     "output_type": "execute_result"
    }
   ],
   "source": [
    "# Now let's generate some fake statistics\n",
    "\n",
    "a = np.random.normal(1.0,1.0,size=(1000,10))\n"
   ]
  },
  {
   "cell_type": "code",
   "execution_count": null,
   "metadata": {},
   "outputs": [],
   "source": []
  }
 ],
 "metadata": {
  "kernelspec": {
   "display_name": "Python 2",
   "language": "python",
   "name": "python2"
  },
  "language_info": {
   "codemirror_mode": {
    "name": "ipython",
    "version": 3
   },
   "file_extension": ".py",
   "mimetype": "text/x-python",
   "name": "python",
   "nbconvert_exporter": "python",
   "pygments_lexer": "ipython3",
   "version": "3.6.3"
  }
 },
 "nbformat": 4,
 "nbformat_minor": 2
}
